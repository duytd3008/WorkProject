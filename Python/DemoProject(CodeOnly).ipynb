{
  "cells": [
    {
      "cell_type": "markdown",
      "metadata": {},
      "source": [
        "# Import Libraries and Functions"
      ]
    },
    {
      "cell_type": "code",
      "execution_count": null,
      "metadata": {
        "colab": {
          "base_uri": "https://localhost:8080/"
        },
        "id": "1JYo24_Xm8Bt",
        "outputId": "77862128-0ce3-4c90-e42b-76ea44375f7b"
      },
      "outputs": [],
      "source": [
        "import pandas as pd\n",
        "import polars as pl\n",
        "import requests\n",
        "import numpy as np\n",
        "import re\n",
        "import os\n",
        "import time\n",
        "from datetime import datetime, timedelta\n",
        "from functools import reduce\n",
        "import warnings\n",
        "warnings.filterwarnings('ignore')\n",
        "\n",
        "pd.set_option('display.max_columns', None)\n",
        "pd.set_option('display.max_rows', 20)"
      ]
    },
    {
      "cell_type": "code",
      "execution_count": null,
      "metadata": {
        "id": "MGujdu40nCbp"
      },
      "outputs": [],
      "source": [
        "def gcp2df(sql): #BigQuery to Pandas DataFrame\n",
        "  query = client.query(sql)\n",
        "  results = query.result()\n",
        "  return results.to_dataframe()\n",
        "\n",
        "def no_accent_plus(s):\n",
        "    s = re.sub('[áàảãạăắằẳẵặâấầẩẫậ]', 'a', s)\n",
        "    s = re.sub('[ÁÀẢÃẠĂẮẰẲẴẶÂẤẦẨẪẬ]', 'A', s)\n",
        "    s = re.sub('[éèẻẽẹêếềểễệ]', 'e', s)\n",
        "    s = re.sub('[ÉÈẺẼẸÊẾỀỂỄỆ]', 'E', s)\n",
        "    s = re.sub('[óòỏõọôốồổỗộơớờởỡợ]', 'o', s)\n",
        "    s = re.sub('[ÓÒỎÕỌÔỐỒỔỖỘƠỚỜỞỠỢ]', 'O', s)\n",
        "    s = re.sub('[íìỉĩị]', 'i', s)\n",
        "    s = re.sub('[ÍÌỈĨỊ]', 'I', s)\n",
        "    s = re.sub('[úùủũụưứừửữự]', 'u', s)\n",
        "    s = re.sub('[ÚÙỦŨỤƯỨỪỬỮỰ]', 'U', s)\n",
        "    s = re.sub('[ýỳỷỹỵ]', 'y', s)\n",
        "    s = re.sub('[ÝỲỶỸỴ]', 'Y', s)\n",
        "    s = re.sub('đ', 'd', s)\n",
        "    s = re.sub('Đ', 'D', s)\n",
        "    s = re.sub(\"\\s\\s+\", \" \", s)\n",
        "    s = re.sub(\"\\([^)]*\\)\", \"\", s) #Remove parentheses\n",
        "    s = s.lower().strip()\n",
        "    return s\n",
        "\n",
        "def WeekdayCalculation(d, weekday = 1, status = 'prev'):\n",
        "    d = datetime.strptime(d, \"%Y-%m-%d\")\n",
        "    if status == 'prev':\n",
        "        interval = d.weekday() - weekday # number represents weekday: 0 for Monday\n",
        "        value_date = d - timedelta(days = interval)\n",
        "    if status == 'next':\n",
        "        interval = weekday - d.weekday()  # number represents weekday: 0 for Monday\n",
        "        interval = interval + 7 if interval < 0 else interval\n",
        "        value_date = d + timedelta(days = interval)\n",
        "    return value_date.strftime('%Y-%m-%d')\n",
        "\n",
        "def WeekRangeInput(inp):\n",
        "    day_num = 5 # Insert end of week day_num (Monday = 0,...)\n",
        "    def StartWeekOfYear(year):\n",
        "        date_start = datetime(year, 1, 1)  # January 1st of the specified year\n",
        "        while date_start.weekday() != day_num:\n",
        "            date_start += timedelta(days=1)\n",
        "        date_end = date_start + timedelta(weeks = 51)\n",
        "        return [date_start, date_end]\n",
        "\n",
        "    def NextDayCalculation(d):\n",
        "        days_ahead = day_num - d.weekday()\n",
        "        days_ahead = days_ahead + 7 if days_ahead < 0 else days_ahead\n",
        "        value_date = d + timedelta(days_ahead)\n",
        "        return value_date\n",
        "\n",
        "    x = datetime.strptime(inp, \"%Y-%m-%d\")\n",
        "    year_value = x.year if x <= StartWeekOfYear(x.year)[1] else x.year + 1\n",
        "    first_start_day = StartWeekOfYear(year_value)[0]\n",
        "\n",
        "    end_day = NextDayCalculation(x)\n",
        "    start_day = end_day - timedelta(days = 6)\n",
        "\n",
        "    end_day_string = end_day.strftime(\"%m/%d\")\n",
        "    start_day_string = start_day.strftime(\"%m/%d\")\n",
        "\n",
        "    week_num = int((end_day - first_start_day).days/7 + 1)\n",
        "    week_range = \"Tuần \" + str(year_value) + '/' + str(week_num).zfill(2) +': ' + start_day_string + '-' + end_day_string\n",
        "    return week_range"
      ]
    },
    {
      "cell_type": "code",
      "execution_count": null,
      "metadata": {
        "id": "vaVHGlYb50qw"
      },
      "outputs": [],
      "source": [
        "department_list = ['hno', 'dsh', 'bd north', 'bd south']"
      ]
    },
    {
      "cell_type": "markdown",
      "metadata": {
        "id": "T0aakXjNzSVs"
      },
      "source": [
        "# **Bảng 1 + Bảng 2**"
      ]
    },
    {
      "cell_type": "code",
      "execution_count": null,
      "metadata": {
        "id": "eJ_DNMLLV1LW"
      },
      "outputs": [],
      "source": [
        "wb_so = gc.open_by_url('https://docs.google.com/spreadsheets/d/15wjltkhNcDL07oFkAadpazZQg-O7AXx0QpD_z0_6Grk/edit#gid=1568281000')\n",
        "ws_so = wb_so.worksheet('ChiTiet_level_1')\n",
        "data = pd.DataFrame(ws_so.get_all_records())"
      ]
    },
    {
      "cell_type": "markdown",
      "metadata": {
        "id": "gE3qLxgUvPpe"
      },
      "source": [
        "**QUICK NOTE:**\n",
        "* Bốn câu được dùng để Tạo bảng Level 1:\n",
        "  * CODING Tình trạng hiện tại (1)\n",
        "  * CODING Nguyên nhân giảm đơn / rời bỏ chính nhất (2)\n",
        "  * CODING Share đơn (3)\n",
        "  * CODING Share đơn trên 50% (4)\n",
        "* WeekFinal sẽ được lùi về ngày Thứ 3 của Tuần không kể đợt là Thứ 3 hay Thứ 6\n",
        "* Cột id_col được dùng kết hợp với 2 câu coding nêu trên với mục đích drop duplicates: Bỏ qua đợt là thứ 3 hay thứ 6.\n",
        "\n",
        "* Percentage được tính theo phần trăm của từng nhóm\n",
        "(VD: nhóm Cá nhân của giảm đơn thì sẽ tính bằng Lý do cá nhân/Tổng của nhóm Giảm đơn)\n"
      ]
    },
    {
      "cell_type": "code",
      "execution_count": null,
      "metadata": {
        "id": "8DjWpAxznSFq"
      },
      "outputs": [],
      "source": [
        "coding_cols = [ 'Dot_V2', 'clientid', 'department_name',\n",
        "                'CODING Tình trạng hiện tại', 'CODING Nguyên nhân giảm đơn / rời bỏ chính nhất',\n",
        "                '1.1. Vận hành_CODING_SO'\n",
        "               ]\n",
        "\n",
        "df_so_raw = data[coding_cols]"
      ]
    },
    {
      "cell_type": "code",
      "execution_count": null,
      "metadata": {
        "id": "dOmtkmdpnSLp"
      },
      "outputs": [],
      "source": [
        "#Data Manipulation\n",
        "df_so_raw['Dot_V2'] = pd.to_datetime(df_so_raw['Dot_V2'], errors = 'coerce')\n",
        "df_so_raw['THANG'] = df_so_raw['Dot_V2'].to_numpy().astype('datetime64[M]')\n",
        "df_so_raw['THANG'] = df_so_raw['THANG'].dt.date\n",
        "df_so_raw['clientid'] = df_so_raw['clientid'].astype(str)"
      ]
    },
    {
      "cell_type": "code",
      "execution_count": null,
      "metadata": {},
      "outputs": [],
      "source": [
        "df_so_raw = df_so_raw[~df_so_raw['Dot_V2'].isnull()]\n",
        "df_so_raw['WeekFinal'] = df_so_raw['Dot_V2'].dt.strftime('%Y-%m-%d').apply(WeekdayCalculation)\n",
        "df_so_raw['WeekFinal_2'] = df_so_raw['Dot_V2'].dt.strftime('%Y-%m-%d').apply(WeekRangeInput)\n",
        "\n",
        "df_so_raw['id_col'] = df_so_raw['clientid'] + '_' +df_so_raw['WeekFinal'] #Dùng để drop Duplicates"
      ]
    },
    {
      "cell_type": "code",
      "execution_count": null,
      "metadata": {},
      "outputs": [],
      "source": [
        "df_so_raw['department_name'] = df_so_raw['department_name'].astype(str).apply(no_accent_plus)\n",
        "df_so_raw['department_name_2'] = np.where(df_so_raw['department_name'].isin(department_list), df_so_raw['department_name'], 'others')"
      ]
    },
    {
      "cell_type": "code",
      "execution_count": null,
      "metadata": {},
      "outputs": [],
      "source": [
        "df_so_raw['CODING Tình trạng hiện tại'] = df_so_raw['CODING Tình trạng hiện tại'].astype(str).apply(no_accent_plus)\n",
        "df_so_raw['CODING Nguyên nhân giảm đơn / rời bỏ chính nhất'] = df_so_raw['CODING Nguyên nhân giảm đơn / rời bỏ chính nhất'].astype(str).apply(no_accent_plus)\n",
        "df_so_raw['1.1. Vận hành_CODING_SO'] = df_so_raw['1.1. Vận hành_CODING_SO'].astype(str).apply(no_accent_plus)"
      ]
    },
    {
      "cell_type": "code",
      "execution_count": null,
      "metadata": {},
      "outputs": [],
      "source": [
        "df_so_raw = df_so_raw.replace(r'^\\s*$', np.nan, regex=True)\n",
        "df_so_raw = df_so_raw.sort_values(by = ['id_col',\n",
        "                                        'CODING Tình trạng hiện tại', 'CODING Nguyên nhân giảm đơn / rời bỏ chính nhất', '1.1. Vận hành_CODING_SO',\n",
        "                                        'Dot_V2'],\n",
        "                                        ascending = [True, False, False, False, True], na_position = 'last')\n",
        "df_so_raw"
      ]
    },
    {
      "cell_type": "code",
      "execution_count": null,
      "metadata": {
        "id": "EnJ1k9mBB7kJ"
      },
      "outputs": [],
      "source": [
        "df_so = df_so_raw.drop_duplicates(subset = ['id_col'], keep = 'first')"
      ]
    },
    {
      "cell_type": "code",
      "execution_count": null,
      "metadata": {
        "colab": {
          "base_uri": "https://localhost:8080/",
          "height": 1000
        },
        "id": "nm2jmRcRdsNs",
        "outputId": "f2c0c5ca-6a5d-4f19-fd8a-d719117f7426"
      },
      "outputs": [],
      "source": [
        "df_so['is_giamdon'] = np.where(df_so['CODING Tình trạng hiện tại'].str.contains(r'giam don', na = False), 1, 0)\n",
        "df_so['is_roibo'] = np.where(df_so['CODING Tình trạng hiện tại'].str.contains(r'roi bo', na = False), 1, 0)\n",
        "\n",
        "df_so['LV1_CaNhan'] = np.where(df_so['CODING Nguyên nhân giảm đơn / rời bỏ chính nhất'].str.contains(r'ca nhan', na = False), 1, 0)\n",
        "df_so['LV1_VanHanh'] = np.where(df_so['CODING Nguyên nhân giảm đơn / rời bỏ chính nhất'].str.contains(r'van hanh', na = False), 1, 0)\n",
        "df_so['LV1_DenBu'] = np.where(df_so['CODING Nguyên nhân giảm đơn / rời bỏ chính nhất'].str.contains(r'den bu', na = False), 1, 0)\n",
        "df_so['LV1_Gia'] = np.where(df_so['CODING Nguyên nhân giảm đơn / rời bỏ chính nhất'].str.contains(r'gia|phu phi', na = False), 1, 0)\n",
        "df_so['LV1_CSKH'] = np.where(df_so['CODING Nguyên nhân giảm đơn / rời bỏ chính nhất'].str.contains(r'cham soc khach hang|cskh', na = False), 1, 0)\n",
        "df_so['LV1_Khac'] = np.where(df_so['CODING Nguyên nhân giảm đơn / rời bỏ chính nhất'].str.contains(r'khac', na = False), 1, 0)\n",
        "\n",
        "\n",
        "df_so['LV2_TatTuyen'] = np.where(df_so['1.1. Vận hành_CODING_SO'].str.contains(r'tat tuyen', na = False), 1, 0)\n",
        "df_so['LV2_TocDoGiaoHang'] = np.where(df_so['1.1. Vận hành_CODING_SO'].str.contains(r'toc do', na = False), 1, 0)\n",
        "df_so['LV2_TiLeHoanHang'] = np.where(df_so['1.1. Vận hành_CODING_SO'].str.contains(r'hoan hang cao', na = False), 1, 0)\n",
        "df_so['LV2_KhongTrungThuc'] = np.where(df_so['1.1. Vận hành_CODING_SO'].str.contains(r'khong trung thuc', na = False), 1, 0)\n",
        "df_so['LV2_MatHang'] = np.where(df_so['1.1. Vận hành_CODING_SO'].str.contains(r'mat hang', na = False), 1, 0)\n",
        "\n",
        "df_so"
      ]
    },
    {
      "cell_type": "code",
      "execution_count": null,
      "metadata": {
        "colab": {
          "base_uri": "https://localhost:8080/",
          "height": 424
        },
        "id": "kD6TFgSQdwIN",
        "outputId": "762d3b1a-a381-48ba-891b-dd00ae1c3c1c"
      },
      "outputs": [],
      "source": [
        "df_so_groupby = df_so.groupby(['THANG', 'CODING Tình trạng hiện tại']).agg(\n",
        "                                    # GiamDon = ('is_giamdon', sum),\n",
        "                                    # RoiBo = ('is_roibo', sum),\n",
        "                                    SoLuong = ('CODING Tình trạng hiện tại', len),\n",
        "                                    LV1_CaNhan = ('LV1_CaNhan', sum),\n",
        "                                    LV1_VanHanh = ('LV1_VanHanh', sum),\n",
        "                                    LV1_Gia = ('LV1_Gia', sum),\n",
        "                                    LV1_DenBu = ('LV1_DenBu', sum),\n",
        "                                    LV1_CSKH = ('LV1_CSKH', sum),\n",
        "                                    LV1_Khac = ('LV1_Khac', sum),\n",
        "\n",
        "                                    LV2_TatTuyen = ('LV2_TatTuyen', sum),\n",
        "                                    LV2_TocDoGiaoHang = ('LV2_TocDoGiaoHang', sum),\n",
        "                                    LV2_TiLeHoanHang = ('LV2_TiLeHoanHang', sum),\n",
        "                                    LV2_KhongTrungThuc = ('LV2_KhongTrungThuc', sum),\n",
        "                                    LV2_MatHang = ('LV2_MatHang', sum),\n",
        "\n",
        "                                   )"
      ]
    },
    {
      "cell_type": "code",
      "execution_count": null,
      "metadata": {},
      "outputs": [],
      "source": [
        "dividend_col_LV1 = ['LV1_VanHanh', 'LV1_Gia', 'LV1_DenBu', 'LV1_CSKH', 'LV1_Khac',]\n",
        "PercentageColumn_LV1 = ['Percentage_LV1_VanHanh', 'Percentage_LV1_Gia', 'Percentage_LV1_DenBu', 'Percentage_LV1_CSKH', 'Percentage_LV1_Khac']\n",
        "\n",
        "dividend_col_LV2 =     ['LV2_TatTuyen', 'LV2_TocDoGiaoHang', 'LV2_TiLeHoanHang', 'LV2_KhongTrungThuc', 'LV2_MatHang']\n",
        "PercentageColumn_LV2 = ['Percentage_LV2_TatTuyen', 'Percentage_LV2_TocDoGiaoHang', 'Percentage_LV2_TiLeHoanHang', 'Percentage_LV2_KhongTrungThuc', 'Percentage_LV2_MatHang']"
      ]
    },
    {
      "cell_type": "code",
      "execution_count": null,
      "metadata": {},
      "outputs": [],
      "source": [
        "df_so_groupby['Percentage_LV1_CaNhan'] = df_so_groupby['LV1_CaNhan'].div(df_so_groupby['SoLuong'], axis=0)\n",
        "df_so_groupby[PercentageColumn_LV1] = df_so_groupby[dividend_col_LV1].div(df_so_groupby[dividend_col_LV1].sum(axis = 1), axis=0)\n",
        "df_so_groupby[PercentageColumn_LV2] = df_so_groupby[dividend_col_LV2].div(df_so_groupby['LV1_VanHanh'], axis=0)"
      ]
    },
    {
      "cell_type": "code",
      "execution_count": null,
      "metadata": {},
      "outputs": [],
      "source": [
        "\n",
        "df_so_groupby = df_so_groupby.reset_index()\n",
        "df_so_groupby = pd.melt(df_so_groupby, id_vars = ['THANG', 'CODING Tình trạng hiện tại'],\n",
        "                        value_vars = ['SoLuong','Percentage_LV1_CaNhan',\n",
        "                                      'Percentage_LV1_VanHanh', 'Percentage_LV1_Gia','Percentage_LV1_DenBu', 'Percentage_LV1_CSKH', 'Percentage_LV1_Khac',\n",
        "                                      'Percentage_LV2_TatTuyen', 'Percentage_LV2_TocDoGiaoHang', 'Percentage_LV2_TiLeHoanHang', 'Percentage_LV2_KhongTrungThuc', 'Percentage_LV2_MatHang'\n",
        "                                      ], value_name = 'Value') # Melt"
      ]
    },
    {
      "cell_type": "code",
      "execution_count": null,
      "metadata": {},
      "outputs": [],
      "source": [
        "df_so_groupby['HeaderName'] = df_so_groupby['variable'] + '_' + df_so_groupby['CODING Tình trạng hiện tại']\n",
        "df_so_groupby"
      ]
    },
    {
      "cell_type": "code",
      "execution_count": null,
      "metadata": {
        "colab": {
          "base_uri": "https://localhost:8080/",
          "height": 330
        },
        "id": "EmqdV0TANl_P",
        "outputId": "3d4db593-5beb-41f6-8a16-8fefd0f8190d"
      },
      "outputs": [],
      "source": [
        "df_so_groupby_1 = pd.pivot_table(df_so_groupby, values = 'Value', index = ['THANG'], columns = 'HeaderName').reset_index()\n",
        "df_so_groupby_1"
      ]
    },
    {
      "cell_type": "code",
      "execution_count": null,
      "metadata": {
        "id": "dz2ypwL2LsR2"
      },
      "outputs": [],
      "source": []
    },
    {
      "cell_type": "markdown",
      "metadata": {
        "id": "9HCP6gBVz_i7"
      },
      "source": [
        "## **Retention A**"
      ]
    },
    {
      "cell_type": "code",
      "execution_count": null,
      "metadata": {
        "id": "M6d5sJRwYHvm"
      },
      "outputs": [],
      "source": [
        "wb_retention_a = gc.open_by_url('https://docs.google.com/spreadsheets/d/1hf0SEm5do8pr5xGEz-6cA2Y2IQOr7Ucnt9ccOYQEhXY/edit#gid=1749797888')\n",
        "ws_retention_a = wb_retention_a.worksheet('data_all')\n",
        "df_retention_a = pd.DataFrame(ws_retention_a.get_all_records())"
      ]
    },
    {
      "cell_type": "code",
      "execution_count": null,
      "metadata": {
        "colab": {
          "base_uri": "https://localhost:8080/"
        },
        "id": "hDzgKvqV0Bqh",
        "outputId": "f63e0ef1-6b79-4fd0-a4e5-abf6422056dc"
      },
      "outputs": [],
      "source": [
        "df_retention_a['Retention?'] = pd.to_numeric(df_retention_a['Retention?'], errors = 'coerce')\n",
        "df_retention_a['Loai_Tru'] = pd.to_numeric(df_retention_a['Loai_Tru'], errors = 'coerce')\n",
        "\n",
        "df_retention_a['Vung'] = df_retention_a['Vung'].astype(str).apply(no_accent_plus)\n",
        "df_retention_a['department_name_2'] = np.where(df_retention_a['Vung'].isin(department_list), df_retention_a['Vung'], 'others')\n",
        "\n",
        "cond = (df_retention_a['Tháng'] != '') & (df_retention_a['Loai_Tru'] ==  0) & (df_retention_a['Tháng'] >= '2023-09-01')\n",
        "df_retention_a = df_retention_a[cond]\n",
        "df_retention_a"
      ]
    },
    {
      "cell_type": "code",
      "execution_count": null,
      "metadata": {
        "id": "WT2yYfC-6f_m"
      },
      "outputs": [],
      "source": [
        "##### Toàn quốc"
      ]
    },
    {
      "cell_type": "code",
      "execution_count": null,
      "metadata": {
        "id": "AqVfCbulKPaN"
      },
      "outputs": [],
      "source": [
        "fetch_col_retention_a = ['THANG', 'Percetage_RetentionA']"
      ]
    },
    {
      "cell_type": "code",
      "execution_count": null,
      "metadata": {
        "colab": {
          "base_uri": "https://localhost:8080/"
        },
        "id": "B5jwg5T70Rtk",
        "outputId": "88a78f6a-34c9-4af3-a54b-a7f3b4344fe0"
      },
      "outputs": [],
      "source": [
        "\n",
        "df_retention_a_gb = df_retention_a.groupby('Tháng').agg(is_retention_A = ('Retention?', sum), TotalA = ('Tháng', len))\n",
        "df_retention_a_gb['Percetage_RetentionA'] = df_retention_a_gb['is_retention_A']/df_retention_a_gb['TotalA']\n",
        "df_retention_a_gb = df_retention_a_gb.reset_index().rename({'Tháng':'THANG'}, axis = 1)\n",
        "df_retention_a_gb['THANG'] = df_retention_a_gb['THANG'].to_numpy().astype('datetime64[M]')\n",
        "df_retention_a_gb['THANG'] = df_retention_a_gb['THANG'].dt.date\n",
        "\n",
        "df_retention_a_gb = df_retention_a_gb[fetch_col_retention_a]\n",
        "df_retention_a_gb"
      ]
    },
    {
      "cell_type": "code",
      "execution_count": null,
      "metadata": {
        "id": "Rmpfe3F0K-54"
      },
      "outputs": [],
      "source": []
    },
    {
      "cell_type": "markdown",
      "metadata": {
        "id": "7fW_KLSKc6o4"
      },
      "source": [
        "## **BigQuery Section**"
      ]
    },
    {
      "cell_type": "markdown",
      "metadata": {
        "id": "FMgcXQJmc7_j"
      },
      "source": [
        "### Số lượng KH A, KH ABCD (Chỉ theo Tháng)"
      ]
    },
    {
      "cell_type": "code",
      "execution_count": null,
      "metadata": {
        "id": "_QXtwX1_dFNJ"
      },
      "outputs": [],
      "source": [
        "sql_crm = \"\"\"SELECT  * FROM `ad_hoc.phan_nhom_kh_crm`\n",
        "              WHERE THANG >= date '2023-09-01'\n",
        "            \"\"\""
      ]
    },
    {
      "cell_type": "code",
      "execution_count": null,
      "metadata": {
        "colab": {
          "base_uri": "https://localhost:8080/",
          "height": 791
        },
        "id": "zCUOgZctd2hi",
        "outputId": "4fdb1a55-886a-4482-98c0-0ae213d7195f"
      },
      "outputs": [],
      "source": [
        "df_crm = gcp2df(sql_crm)\n",
        "df_crm['Group'] = df_crm['nhom_thang_N'].str[0]\n",
        "df_crm['is_khA'] = np.where(df_crm['Group'].str.match('A', na = False),1,0)\n",
        "df_crm['TruHang_ThangHang'] = np.where(\n",
        "                                        (df_crm['phan_loai_retention'].str.contains('Trụ hạng'))|\n",
        "                                       (df_crm['phan_loai_retention'].str.contains('Lên hạng')),1,0\n",
        "\n",
        "                                       )\n",
        "\n",
        "df_crm['department_name'] = df_crm['department_name'].astype(str).apply(no_accent_plus)\n",
        "df_crm['department_name_2'] = np.where(df_crm['department_name'].isin(department_list), df_crm['department_name'], 'others')\n",
        "\n",
        "\n",
        "df_crm"
      ]
    },
    {
      "cell_type": "code",
      "execution_count": null,
      "metadata": {
        "id": "GxWX8I-U6oTh"
      },
      "outputs": [],
      "source": [
        "##### Toàn quốc"
      ]
    },
    {
      "cell_type": "code",
      "execution_count": null,
      "metadata": {
        "colab": {
          "base_uri": "https://localhost:8080/",
          "height": 206
        },
        "id": "Ia1rTAjqeEdy",
        "outputId": "c9ee18bd-c43d-451c-95ce-b9db8980cfec"
      },
      "outputs": [],
      "source": [
        "df_crm_gb = df_crm.groupby(['THANG']).agg(TotalKH_ABCD = ('THANG', len), TotalKH_A = ('is_khA', sum), SLTruHang_ThangHang = ('TruHang_ThangHang', sum)).reset_index()\n",
        "df_crm_gb['Percentage_RetentionABCD'] = df_crm_gb['SLTruHang_ThangHang']/df_crm_gb['TotalKH_ABCD']\n",
        "fetch_col = ['THANG','TotalKH_ABCD', 'TotalKH_A', 'Percentage_RetentionABCD']\n",
        "df_crm_gb = df_crm_gb[fetch_col]\n",
        "df_crm_gb"
      ]
    },
    {
      "cell_type": "code",
      "execution_count": null,
      "metadata": {
        "id": "UsRlwApqPreA"
      },
      "outputs": [],
      "source": []
    },
    {
      "cell_type": "markdown",
      "metadata": {
        "id": "eKqwO61afMCc"
      },
      "source": [
        "### Số lượng KH Giảm đơn (Lùi về 1 Tuần)"
      ]
    },
    {
      "cell_type": "code",
      "execution_count": null,
      "metadata": {
        "colab": {
          "base_uri": "https://localhost:8080/"
        },
        "id": "n1eQXUej4qQJ",
        "outputId": "b287c119-310b-4025-aee7-3da712b5d6d4"
      },
      "outputs": [],
      "source": [
        "bucket_file = !gsutil ls gs://cx_ad_hoc/Client_Declining_Revenue/\n",
        "bucket_list = [x for x in bucket_file if x != 'gs://cx_ad_hoc/Client_Declining_Revenue/']\n",
        "bucket_list"
      ]
    },
    {
      "cell_type": "code",
      "execution_count": null,
      "metadata": {
        "colab": {
          "base_uri": "https://localhost:8080/",
          "height": 999
        },
        "id": "Atd4xVec5N-J",
        "outputId": "6fca1345-bfe0-47fb-c3ea-9930e8ace8d8"
      },
      "outputs": [],
      "source": [
        "file_name = 'data.csv'\n",
        "df_planning = pd.DataFrame()\n",
        "for root in bucket_list:\n",
        "  file_name_final = root + file_name\n",
        "  df_frag = pd.read_csv(file_name_final)\n",
        "  Dot = root.split('/')[-2].strip('Dot=')\n",
        "  df_frag = df_frag.replace('',np.nan)\n",
        "  df_frag['Đợt'] = Dot\n",
        "\n",
        "  df_frag['Dot_V2'] = pd.to_datetime(df_frag['Đợt']) - timedelta(weeks = 1)\n",
        "  df_frag['THANG'] = df_frag['Dot_V2'].to_numpy().astype('datetime64[M]')\n",
        "  df_frag['THANG'] = df_frag['THANG'].dt.date\n",
        "\n",
        "  df_frag['Dot_T3'] = df_frag['Dot_V2'].astype(str).apply(WeekdayCalculation)\n",
        "  df_frag['WeekFinal_2'] = df_frag['Dot_V2'].dt.strftime('%Y-%m-%d').apply(WeekRangeInput)\n",
        "\n",
        "\n",
        "  df_frag['department_name'] = df_frag['department_name'].astype(str).apply(no_accent_plus)\n",
        "  df_frag['department_name_2'] = np.where(df_frag['department_name'].isin(department_list), df_frag['department_name'], 'others')\n",
        "\n",
        "\n",
        "  df_frag['clientid'] = df_frag['clientid'].astype(str)\n",
        "  df_frag['sale_owner_id'] = df_frag['sale_owner_id'].map(str)\n",
        "  df_frag['section_manager_id'] = df_frag['section_manager_id'].map(str)\n",
        "\n",
        "  df_frag = df_frag.replace(r'\\.0$', '', regex=True)\n",
        "  df_planning = pd.concat([df_frag, df_planning])\n",
        "df_planning"
      ]
    },
    {
      "cell_type": "code",
      "execution_count": null,
      "metadata": {},
      "outputs": [],
      "source": [
        "cond = (df_planning['nhom_phan_tram_giam'] == '>30') & (df_planning['THANG'] >= pd.to_datetime('2023-09-01') )\n",
        "df_planning = df_planning[cond]\n",
        "df_planning"
      ]
    },
    {
      "cell_type": "code",
      "execution_count": null,
      "metadata": {
        "colab": {
          "base_uri": "https://localhost:8080/",
          "height": 424
        },
        "id": "u_RLFZh0VcDJ",
        "outputId": "02e24643-befe-46a1-b78c-6ebff39fb6e7"
      },
      "outputs": [],
      "source": [
        "col_list = ['THANG','Dot_V2', 'department_name_2','WeekFinal_2', 'clientid', 'nhom']\n",
        "df_planning = df_planning[col_list]\n",
        "df_planning"
      ]
    },
    {
      "cell_type": "markdown",
      "metadata": {
        "id": "u8P7s6828i5O"
      },
      "source": [
        "#### Theo Tháng"
      ]
    },
    {
      "cell_type": "code",
      "execution_count": null,
      "metadata": {
        "colab": {
          "base_uri": "https://localhost:8080/",
          "height": 206
        },
        "id": "Q7V7eqBzaim5",
        "outputId": "5ee8fdc5-ce24-469c-f737-0c94ae19924f"
      },
      "outputs": [],
      "source": [
        "df_planning_gb = df_planning.groupby('THANG').agg(SLKHGiamDonTren30 = ('clientid', len), SLKHGiamDonTren30_Unique = ('clientid', 'nunique') ).reset_index()\n",
        "df_planning_gb"
      ]
    },
    {
      "cell_type": "code",
      "execution_count": null,
      "metadata": {
        "id": "GuFglZ6LQod2"
      },
      "outputs": [],
      "source": []
    },
    {
      "cell_type": "markdown",
      "metadata": {
        "id": "x3VqgWHEjfUl"
      },
      "source": [
        "### **Retention Revenue**"
      ]
    },
    {
      "cell_type": "markdown",
      "metadata": {
        "id": "3FXYp8l5_IMB"
      },
      "source": [
        "#### Theo Tháng"
      ]
    },
    {
      "cell_type": "code",
      "execution_count": null,
      "metadata": {
        "id": "MdswrMALjh-I"
      },
      "outputs": [],
      "source": [
        "sql_revenue = \"\"\"\n",
        "                WITH\n",
        "                MY_TEMP_TOTAL AS (\n",
        "                SELECT Month, SUM(Revenue) AS TOTAL_REVENUE FROM `ad_hoc.data_retention_daily` as L\n",
        "                GROUP BY MONTH\n",
        "                ),\n",
        "                MY_TEMP_AF AS (\n",
        "                SELECT Month, SUM(Revenue) AS REVENUE_AF FROM `ad_hoc.data_retention_daily` as L\n",
        "                where L.Group != 'G' and L.Group != 'H'\n",
        "                Group by Month\n",
        "                )\n",
        "              SELECT L.MONTH AS THANG, L.REVENUE_AF/R.TOTAL_REVENUE AS Percentage_RetentionRevenue FROM MY_TEMP_AF AS L\n",
        "              LEFT JOIN MY_TEMP_TOTAL AS R\n",
        "              ON L.MONTH = DATE_ADD(R.MONTH, INTERVAL 1 MONTH)\n",
        "              WHERE L.MONTH >= DATE '2023-09-01'\n",
        "              ORDER BY L.MONTH DESC\n",
        "              \"\"\"\n",
        "\n",
        "sql_revenue_department = \"\"\"\n",
        "            WITH ORIGINAL_TABLE AS(\n",
        "                SELECT *,\n",
        "                (CASE WHEN department_name in ('BD NORTH', 'BD SOUTH', 'HNO', 'DSH')\n",
        "                THEN lower(department_name)\n",
        "                ELSE 'others'\n",
        "                END\n",
        "                ) as department_name_2\n",
        "                FROM `ad_hoc.data_retention_daily`\n",
        "\n",
        "            ),\n",
        "            MY_TEMP_TOTAL AS (\n",
        "            SELECT Month, department_name_2,SUM(Revenue) AS TOTAL_REVENUE FROM ORIGINAL_TABLE as L\n",
        "            GROUP BY MONTH, department_name_2\n",
        "            ),\n",
        "            MY_TEMP_AF AS (\n",
        "            SELECT Month, department_name_2, SUM(Revenue) AS REVENUE_AF FROM ORIGINAL_TABLE as L\n",
        "            where L.Group != 'G' and L.Group != 'H'\n",
        "            Group by Month, department_name_2\n",
        "            )\n",
        "\n",
        "            SELECT L.MONTH AS THANG, L.department_name_2, L.REVENUE_AF/R.TOTAL_REVENUE AS Percentage_RetentionRevenue FROM MY_TEMP_AF AS L\n",
        "            LEFT JOIN MY_TEMP_TOTAL AS R\n",
        "            ON L.MONTH = DATE_ADD(R.MONTH, INTERVAL 1 MONTH)\n",
        "            AND L.department_name_2 = R.department_name_2\n",
        "\n",
        "            WHERE L.MONTH >= DATE '2023-09-01'\n",
        "            ORDER BY L.MONTH DESC\n",
        "\n",
        "            \"\"\""
      ]
    },
    {
      "cell_type": "code",
      "execution_count": null,
      "metadata": {
        "colab": {
          "base_uri": "https://localhost:8080/",
          "height": 238
        },
        "id": "b5mIR96hl4Zo",
        "outputId": "57b1f78f-945d-43d2-af03-ac1a3ce127fe"
      },
      "outputs": [],
      "source": [
        "df_retention_revenue_gb = gcp2df(sql_revenue)\n",
        "df_retention_revenue_gb"
      ]
    },
    {
      "cell_type": "markdown",
      "metadata": {
        "id": "4TBBdmCsm0h8"
      },
      "source": [
        "## **Merge Dataframes**"
      ]
    },
    {
      "cell_type": "code",
      "execution_count": null,
      "metadata": {
        "colab": {
          "base_uri": "https://localhost:8080/",
          "height": 396
        },
        "id": "Mt8Mr72omqzD",
        "outputId": "662a66da-de95-4958-8466-33da29dfcc06"
      },
      "outputs": [],
      "source": [
        "data_frames = [df_so_groupby_1, df_crm_gb, df_planning_gb, df_retention_revenue_gb, df_retention_a_gb]\n",
        "print(len(data_frames))\n",
        "df_merged = reduce(lambda left, right: pd.merge(left, right, on = ['THANG'], how = 'outer'), data_frames)\n",
        "df_merged"
      ]
    },
    {
      "cell_type": "code",
      "execution_count": null,
      "metadata": {
        "colab": {
          "base_uri": "https://localhost:8080/",
          "height": 424
        },
        "id": "q5glXKPJn9Sm",
        "outputId": "90220ab9-5a12-4268-db72-172aca93f460"
      },
      "outputs": [],
      "source": [
        "df_merged = pd.pivot_table(df_merged, columns = 'THANG').reset_index()\n",
        "df_merged"
      ]
    },
    {
      "cell_type": "code",
      "execution_count": null,
      "metadata": {
        "id": "aqfp3wcL_Jau"
      },
      "outputs": [],
      "source": []
    },
    {
      "cell_type": "markdown",
      "metadata": {
        "id": "ueJhHuNk_lHp"
      },
      "source": [
        "# **Bảng 3**"
      ]
    },
    {
      "cell_type": "code",
      "execution_count": null,
      "metadata": {
        "id": "nQFGgZcb1W9Q"
      },
      "outputs": [],
      "source": [
        "wb_call = gc.open_by_url('https://docs.google.com/spreadsheets/d/1WsHPDX4Pms1TAzAZrlt7OfZUlFd1lM5EoXAdJfvCEZw/edit#gid=1595060363')\n",
        "ws_call = wb_call.worksheet('QC Call KH')"
      ]
    },
    {
      "cell_type": "code",
      "execution_count": null,
      "metadata": {
        "colab": {
          "base_uri": "https://localhost:8080/",
          "height": 1000
        },
        "id": "NJaqgkOX2Gis",
        "outputId": "71abaf03-2986-483d-a1d6-4326504b91bb"
      },
      "outputs": [],
      "source": [
        "df_call_raw = pd.DataFrame(ws_call.get_all_records())\n",
        "df_call_raw"
      ]
    },
    {
      "cell_type": "code",
      "execution_count": null,
      "metadata": {
        "id": "jQnFVpsu2ezq"
      },
      "outputs": [],
      "source": [
        "fetch_col = [\n",
        "            'Đợt', 'ID KH', 'Nhóm KH đang thăm hỏi', 'department_name',\n",
        "            'Level 1_CODING_CS', '1.1. Vận hành_CODING_CS',\n",
        "            'Share đơn ĐVVC khác\\n(1: có, 0: không)_KH',\n",
        "            'Q4\\n(Optional)_(1) Mức độ hài lòng nói chung về dịch vụ :\\n1. Rất tệ/ rất không hài lòng ... tăng dần đến ....10. Rất tốt/ rất hài lòng',\n",
        "            'Q3_2 tuần gần đây, Anh/ chị thấy tốc độ giao hàng  như thế nào so với nhu cầu của shop anh/ chị? Vui lòng đánh giá theo thang điểm 10 với:\\n1 điểm - Rất chậm, không thể chấp nhận được tăng dần đến 10 điểm -Tốc độ nhanh xuất sắc',\n",
        "            'Q4\\n(Optional)_(2) Đánh giá dịch vụ chăm sóc khách hàng: 1. Rất không nhiệt tình ....tăng dần đến ....10. Rất nhiệt tình ',\n",
        "            'Q4\\n(Optional)_(4) Đánh giá thái độ nhân viên giao hàng: 1. Rất tệ ....tăng dần đến ....10. Rất tốt',\n",
        "              ]"
      ]
    },
    {
      "cell_type": "code",
      "execution_count": null,
      "metadata": {
        "id": "fn1S2AiIy8Nx"
      },
      "outputs": [],
      "source": [
        "rename_col = ['Dot', 'ClientID', 'Group', 'department_name',\n",
        "              'Level 1_CODING_CS','1.1. Vận hành_CODING_CS',\n",
        "              'is_sharedon',\n",
        "              'DanhGiaChungDichVu',\n",
        "              'DanhGiaTocDoGiaoHang',\n",
        "              'DanhGiaCSKH',\n",
        "              'DanhGiaShipper'\n",
        "              ]\n",
        "\n",
        "numeric_col = ['is_sharedon', 'DanhGiaTocDoGiaoHang', 'DanhGiaChungDichVu', 'DanhGiaCSKH', 'DanhGiaShipper']"
      ]
    },
    {
      "cell_type": "code",
      "execution_count": null,
      "metadata": {
        "id": "70dbxcg39GG5"
      },
      "outputs": [],
      "source": [
        "df_call = df_call_raw[fetch_col]\n",
        "df_call.columns = rename_col"
      ]
    },
    {
      "cell_type": "code",
      "execution_count": null,
      "metadata": {
        "id": "RO0vNbCOygZq"
      },
      "outputs": [],
      "source": [
        "df_call['Dot'] = pd.to_datetime(df_call['Dot'], errors = 'coerce')\n",
        "df_call['Dot_V2'] = df_call['Dot'] #- timedelta(weeks = 1)\n",
        "df_call['WeekFinal_2'] = df_call['Dot_V2'].dt.strftime('%Y-%m-%d').apply(WeekRangeInput)\n",
        "df_call = df_call[df_call['Dot_V2'] >= '2023-09-01']\n",
        "\n",
        "df_call['THANG'] = df_call['Dot_V2'].to_numpy().astype('datetime64[M]')\n",
        "df_call['THANG'] = df_call['THANG'].dt.date\n",
        "\n",
        "df_call['department_name'] = df_call['department_name'].astype(str).apply(no_accent_plus)\n",
        "df_call['department_name_2'] = np.where(df_call['department_name'].isin(department_list), df_call['department_name'], 'others')\n",
        "\n",
        "df_call['Dot_T3'] = df_call['Dot_V2'].astype(str).apply(WeekdayCalculation)\n",
        "df_call['id_col'] = df_call['ClientID'].astype(str) + '_' +df_call['Dot_T3'] #Dùng để drop Duplicates\n",
        "\n",
        "df_call['Level 1_CODING_CS'] = df_call['Level 1_CODING_CS'].astype(str).apply(no_accent_plus)\n",
        "df_call['1.1. Vận hành_CODING_CS'] = df_call['1.1. Vận hành_CODING_CS'].astype(str).apply(no_accent_plus)\n",
        "\n",
        "df_call = df_call.replace(r'^\\s*$', np.nan, regex=True)\n",
        "df_call[numeric_col] = df_call[numeric_col].astype(float)\n"
      ]
    },
    {
      "cell_type": "code",
      "execution_count": null,
      "metadata": {
        "id": "q6pLnN-6HBDf"
      },
      "outputs": [],
      "source": [
        "df_call['LV1_CaNhan'] = np.where(df_call['Level 1_CODING_CS'].str.contains(r'ca nhan', na = False), 1, 0)\n",
        "df_call['is_coding_LV1'] = np.where(df_call['Level 1_CODING_CS'].isna(), 0, 1)\n",
        "\n",
        "df_call['LV1_VanHanh'] = np.where(df_call['Level 1_CODING_CS'].str.contains(r'van hanh', na = False), 1, 0)\n",
        "df_call['LV1_Gia'] = np.where(df_call['Level 1_CODING_CS'].str.contains(r'gia|phu phi', na = False), 1, 0)\n",
        "df_call['LV1_DenBu'] = np.where(df_call['Level 1_CODING_CS'].str.contains(r'den bu', na = False), 1, 0)\n",
        "df_call['LV1_CSKH'] = np.where(df_call['Level 1_CODING_CS'].str.contains(r'cham soc khach hang|cskh', na = False), 1, 0)\n",
        "\n",
        "df_call['LV2_TatTuyen'] = np.where(df_call['1.1. Vận hành_CODING_CS'].str.contains(r'tat tuyen', na = False), 1, 0)\n",
        "df_call['LV2_TocDoGiaoHang'] = np.where(df_call['1.1. Vận hành_CODING_CS'].str.contains(r'toc do', na = False), 1, 0)\n",
        "df_call['LV2_TyLeHoanHang'] = np.where(df_call['1.1. Vận hành_CODING_CS'].str.contains(r'hoan hang cao', na = False), 1, 0)\n",
        "df_call['LV2_KhongTrungThuc'] = np.where(df_call['1.1. Vận hành_CODING_CS'].str.contains(r'khong trung thuc', na = False), 1, 0)\n",
        "df_call['LV2_MatHang'] = np.where(df_call['1.1. Vận hành_CODING_CS'].str.contains(r'mat hang', na = False), 1, 0)\n",
        "\n",
        "df_call['is_CSAT_TocDoGiao'] = np.where(df_call['DanhGiaTocDoGiaoHang'].isna(), 0, 1)\n",
        "df_call['T2B_CSAT_TocDoGiao'] = np.where(df_call['DanhGiaTocDoGiaoHang'] >= 4, 1, 0)\n",
        "df_call['TB_CSAT_TocDoGiao'] = np.where(df_call['DanhGiaTocDoGiaoHang'] == 5, 1, 0)\n",
        "\n",
        "df_call['is_CSAT_CSKH'] = np.where(df_call['DanhGiaCSKH'].isna(), 0, 1)\n",
        "df_call['T2B_CSAT_CSKH'] = np.where(df_call['DanhGiaCSKH'] >= 4, 1, 0)\n",
        "df_call['TB_CSAT_CSKH'] = np.where(df_call['DanhGiaCSKH'] == 5, 1, 0)\n",
        "\n",
        "df_call['is_CSAT_Shipper'] = np.where(df_call['DanhGiaShipper'].isna(), 0, 1)\n",
        "df_call['T2B_CSAT_Shipper'] = np.where(df_call['DanhGiaShipper'] >= 4, 1, 0)\n",
        "df_call['TB_CSAT_Shipper'] = np.where(df_call['DanhGiaShipper'] == 5, 1, 0)"
      ]
    },
    {
      "cell_type": "code",
      "execution_count": null,
      "metadata": {
        "colab": {
          "base_uri": "https://localhost:8080/",
          "height": 344
        },
        "id": "YNcFfaKJ4lBF",
        "outputId": "242c506d-6c16-4569-cf21-fd7e183ba684"
      },
      "outputs": [],
      "source": [
        "df_call_gb = df_call.groupby('THANG').agg(\n",
        "                              SLKHCallThanhCong = ('ClientID', len),\n",
        "                              is_coding_LV1 = ('is_coding_LV1', sum),\n",
        "                              LV1_CaNhan = ('LV1_CaNhan', sum),\n",
        "\n",
        "                              LV1_VanHanh = ('LV1_VanHanh', sum),\n",
        "                              LV1_Gia = ('LV1_Gia', sum),\n",
        "                              LV1_DenBu = ('LV1_DenBu', sum),\n",
        "                              LV1_CSKH = ('LV1_CSKH', sum),\n",
        "\n",
        "                              LV2_TatTuyen = ('LV2_TatTuyen', sum),\n",
        "                              LV2_TocDoGiaoHang = ('LV2_TocDoGiaoHang', sum),\n",
        "                              LV2_TyLeHoanHang = ('LV2_TyLeHoanHang', sum),\n",
        "                              LV2_KhongTrungThuc = ('LV2_KhongTrungThuc', sum),\n",
        "                              LV2_MatHang = ('LV2_MatHang', sum),\n",
        "\n",
        "                              SLKHShareDon = ('is_sharedon', sum),\n",
        "\n",
        "                              is_CSAT_TocDoGiao = ('is_CSAT_TocDoGiao', sum),\n",
        "                              T2B_CSAT_TocDoGiao = ('T2B_CSAT_TocDoGiao', sum),\n",
        "                              TB_CSAT_TocDoGiao = ('TB_CSAT_TocDoGiao', sum),\n",
        "\n",
        "                              is_CSAT_CSKH = ('is_CSAT_CSKH', sum),\n",
        "                              T2B_CSAT_CSKH = ('T2B_CSAT_CSKH', sum),\n",
        "                              TB_CSAT_CSKH = ('TB_CSAT_CSKH', sum),\n",
        "\n",
        "                              is_CSAT_Shipper = ('is_CSAT_Shipper', sum),\n",
        "                              T2B_CSAT_Shipper = ('T2B_CSAT_Shipper', sum),\n",
        "                              TB_CSAT_Shipper = ('TB_CSAT_Shipper', sum),\n",
        "                              )\n",
        "\n",
        "\n",
        "\n"
      ]
    },
    {
      "cell_type": "code",
      "execution_count": null,
      "metadata": {},
      "outputs": [],
      "source": [
        "sum_4_cols = ['LV1_VanHanh'\t,'LV1_Gia'\t,'LV1_DenBu'\t,'LV1_CSKH']\n",
        "\n",
        "self_divide_cols = ['T2B_CSAT_TocDoGiao', 'TB_CSAT_TocDoGiao',\n",
        "                    'T2B_CSAT_CSKH', 'TB_CSAT_CSKH',\n",
        "                    'T2B_CSAT_Shipper', 'TB_CSAT_Shipper'\n",
        "                    ]"
      ]
    },
    {
      "cell_type": "code",
      "execution_count": null,
      "metadata": {},
      "outputs": [],
      "source": [
        "df_call_gb['sum_4_col'] = df_call_gb[sum_4_cols].sum(axis = 1)\n",
        "\n",
        "df_call_gb"
      ]
    },
    {
      "cell_type": "code",
      "execution_count": null,
      "metadata": {
        "colab": {
          "base_uri": "https://localhost:8080/",
          "height": 344
        },
        "id": "oI4BLY1t7r1Q",
        "outputId": "80a0c566-6c4e-4715-e513-f43ff54ebb01"
      },
      "outputs": [],
      "source": [
        "pattern = re.compile(r'LV2')\n",
        "\n",
        "for name in df_call_gb.iloc[:,1:].columns:\n",
        "  new_name = 'Percentage_Call_' + name\n",
        "  if re.match(pattern, name):\n",
        "    #print(name)\n",
        "    df_call_gb[new_name] = df_call_gb[name].div(df_call_gb['LV1_VanHanh'], axis = 0)\n",
        "  elif name in sum_4_cols:\n",
        "    df_call_gb[new_name] = df_call_gb[name].div(df_call_gb['sum_4_col'], axis = 0)\n",
        "  elif name == 'LV1_CaNhan':\n",
        "    df_call_gb[new_name] = df_call_gb[name].div(df_call_gb['is_coding_LV1'], axis = 0)\n",
        "  elif name in self_divide_cols:\n",
        "    divisor_name = 'is_' + name.split('_', 1)[1]\n",
        "    df_call_gb[new_name] = df_call_gb[name].div(df_call_gb[divisor_name], axis = 0)\n",
        "  else:\n",
        "    df_call_gb[new_name] = df_call_gb[name].div(df_call_gb['SLKHCallThanhCong'], axis = 0)\n",
        "df_call_gb"
      ]
    },
    {
      "cell_type": "code",
      "execution_count": null,
      "metadata": {
        "id": "XkFZcXkY8N4U"
      },
      "outputs": [],
      "source": [
        "fetch_export_col = ['SLKHCallThanhCong',\n",
        "                    'Percentage_Call_LV1_CaNhan',\n",
        "                    'Percentage_Call_LV1_VanHanh','Percentage_Call_LV1_Gia','Percentage_Call_LV1_DenBu', 'Percentage_Call_LV1_CSKH',\n",
        "                    \"Percentage_Call_LV2_TatTuyen\",\"Percentage_Call_LV2_TocDoGiaoHang\",\"Percentage_Call_LV2_TyLeHoanHang\",\"Percentage_Call_LV2_KhongTrungThuc\",\"Percentage_Call_LV2_MatHang\",\n",
        "\n",
        "                    'Percentage_Call_SLKHShareDon',\n",
        "                    'Percentage_Call_T2B_CSAT_TocDoGiao', 'Percentage_Call_TB_CSAT_TocDoGiao',\n",
        "                    'Percentage_Call_T2B_CSAT_CSKH','Percentage_Call_TB_CSAT_CSKH',\n",
        "                    'Percentage_Call_T2B_CSAT_Shipper','Percentage_Call_TB_CSAT_Shipper'\n",
        "                    ]"
      ]
    },
    {
      "cell_type": "code",
      "execution_count": null,
      "metadata": {
        "colab": {
          "base_uri": "https://localhost:8080/",
          "height": 614
        },
        "id": "MNWMdoF08KLs",
        "outputId": "f68cdf6a-9fa0-4b27-9f82-0adbea1592a9"
      },
      "outputs": [],
      "source": [
        "df_call_gb_final = df_call_gb[fetch_export_col].T.reset_index()\n",
        "df_call_gb_final"
      ]
    },
    {
      "cell_type": "code",
      "execution_count": null,
      "metadata": {
        "id": "Cg56yLiUjIO2"
      },
      "outputs": [],
      "source": []
    },
    {
      "cell_type": "markdown",
      "metadata": {
        "id": "iQA7wIGxb6qV"
      },
      "source": [
        "# **Push to GGSheets**"
      ]
    },
    {
      "cell_type": "code",
      "execution_count": null,
      "metadata": {
        "id": "rB5_AD4f84tv"
      },
      "outputs": [],
      "source": [
        "department_list = ['BD NORTH', 'BD SOUTH', 'DSH', 'HNO', 'OTHERS']"
      ]
    },
    {
      "cell_type": "code",
      "execution_count": null,
      "metadata": {
        "colab": {
          "base_uri": "https://localhost:8080/"
        },
        "id": "t_urNKpNoGMI",
        "outputId": "84b94ddd-13bf-4ffc-aa80-43260865b7f3"
      },
      "outputs": [],
      "source": [
        "ws_dict = gc.open_by_url('https://docs.google.com/spreadsheets/d/1YHo8AHtfQf3tpmhXl5Dsxc4Rf1nJRM5zHHK71Gaa14U/edit#gid=997727404').worksheet('dict')\n",
        "df_dict = pd.DataFrame(ws_dict.get_all_records())\n",
        "zip_dict = dict(zip(df_dict['index'], df_dict['NameFinal']))\n",
        "zip_dict"
      ]
    },
    {
      "cell_type": "code",
      "execution_count": null,
      "metadata": {
        "colab": {
          "base_uri": "https://localhost:8080/",
          "height": 424
        },
        "id": "i_2BLarHP4ul",
        "outputId": "90305186-e876-427c-d576-a2cc512abc58"
      },
      "outputs": [],
      "source": [
        "df_merged_2 = df_merged.replace(zip_dict)\n",
        "df_merged_2"
      ]
    },
    {
      "cell_type": "code",
      "execution_count": null,
      "metadata": {
        "colab": {
          "base_uri": "https://localhost:8080/",
          "height": 424
        },
        "id": "KmwtcHpwtceh",
        "outputId": "c1a787c2-119e-4c50-9e75-b8d02541d1e7"
      },
      "outputs": [],
      "source": [
        "df_merged_2 = df_merged_2.merge(df_dict, how = 'left', left_on = 'index',right_on = 'NameFinal').sort_values(by = 'Order_TQ_Month', ascending = True)\\\n",
        "                          .drop(['Order', 'Order_TQ_Week', 'Order_TQ_Month', 'NameFinal', 'index_y'], axis = 1)\n",
        "df_merged_2"
      ]
    },
    {
      "cell_type": "code",
      "execution_count": null,
      "metadata": {
        "colab": {
          "base_uri": "https://localhost:8080/",
          "height": 614
        },
        "id": "LLaH6PndP6ji",
        "outputId": "cf6919b3-daf0-4de3-8f13-355dd21508e1"
      },
      "outputs": [],
      "source": [
        "df_call_gb_final_2 = df_call_gb_final.replace(zip_dict)\n",
        "df_call_gb_final_2"
      ]
    },
    {
      "cell_type": "code",
      "execution_count": null,
      "metadata": {
        "colab": {
          "base_uri": "https://localhost:8080/",
          "height": 614
        },
        "id": "F-qNXsl8tsHw",
        "outputId": "99f02a0c-a879-4151-bb8a-01dfc7363f5e"
      },
      "outputs": [],
      "source": [
        "df_call_gb_final_2 = df_call_gb_final_2.merge(df_dict, how = 'left', left_on = 'index',right_on = 'NameFinal').sort_values(by = 'Order_TQ_Month', ascending = True)\\\n",
        "                                        .drop(['Order', 'Order_TQ_Week', 'Order_TQ_Month', 'NameFinal', 'index_y'], axis = 1)\n",
        "df_call_gb_final_2"
      ]
    },
    {
      "cell_type": "code",
      "execution_count": null,
      "metadata": {
        "id": "1Q1GDjqL9OHc"
      },
      "outputs": [],
      "source": [
        "sheet_name = 'Toàn quốc'\n",
        "wb_export = gc.open_by_url('https://docs.google.com/spreadsheets/d/1H-jZBIfhIKMDhIYRwSgfxWx1hmdSOY20Pu_gBonb2WI/edit#gid=0')\n",
        "ws_export = wb_export.worksheet(sheet_name)\n",
        "ws_export.clear()\n",
        "\n",
        "set_with_dataframe(ws_export, df_merged_2, col = 11)\n",
        "set_with_dataframe(ws_export, df_call_gb_final_2, row = 40, col = 11)"
      ]
    },
    {
      "cell_type": "markdown",
      "metadata": {
        "id": "KiBzhvOhQANS"
      },
      "source": [
        "### Sheet MTD"
      ]
    },
    {
      "cell_type": "code",
      "execution_count": null,
      "metadata": {
        "id": "GmtLG2bWMomM"
      },
      "outputs": [],
      "source": [
        "pd.set_option('display.max_rows', 50)"
      ]
    },
    {
      "cell_type": "code",
      "execution_count": null,
      "metadata": {
        "id": "iReHDj7AQR7g"
      },
      "outputs": [],
      "source": [
        "df_merged['department_name_2'] = 'Toàn quốc'\n",
        "df_call_gb_final['department_name_2'] = 'Toàn quốc'"
      ]
    },
    {
      "cell_type": "code",
      "execution_count": null,
      "metadata": {
        "id": "tnpFd523RAl1"
      },
      "outputs": [],
      "source": [
        "list_df = [df_merged, df_call_gb_final, df_department_merged, df_call_department_gb_final]"
      ]
    },
    {
      "cell_type": "code",
      "execution_count": null,
      "metadata": {
        "colab": {
          "base_uri": "https://localhost:8080/",
          "height": 424
        },
        "id": "eIItM92JRkyw",
        "outputId": "3132fff8-2eae-4684-e770-16b06e62e27b"
      },
      "outputs": [],
      "source": [
        "df_merged_mtd = pd.concat(list_df).astype(str)\n",
        "df_merged_mtd"
      ]
    },
    {
      "cell_type": "code",
      "execution_count": null,
      "metadata": {
        "id": "yv5vop3WUM_T"
      },
      "outputs": [],
      "source": [
        "month_value = '2024-01-01'"
      ]
    },
    {
      "cell_type": "code",
      "execution_count": null,
      "metadata": {
        "colab": {
          "base_uri": "https://localhost:8080/",
          "height": 424
        },
        "id": "tlPPa293SmD7",
        "outputId": "1c85b9ad-663d-4475-9ea5-4d4f8ae4a367"
      },
      "outputs": [],
      "source": [
        "df_merged_mtd = pd.melt(df_merged_mtd, id_vars = ['index', 'department_name_2'])\n",
        "df_merged_mtd['value'] = pd.to_numeric(df_merged_mtd['value'], errors = 'coerce')\n",
        "# df_merged_mtd['value'] = df_merged_mtd['value'].fillna('')\n",
        "df_merged_mtd"
      ]
    },
    {
      "cell_type": "code",
      "execution_count": null,
      "metadata": {
        "colab": {
          "base_uri": "https://localhost:8080/",
          "height": 424
        },
        "id": "moqGuEkSUE1d",
        "outputId": "7ea1ec52-752f-4875-ffde-150562e76a16"
      },
      "outputs": [],
      "source": [
        "df_mtd_export = df_merged_mtd[df_merged_mtd['THANG'] == pd.to_datetime(month_value)]\n",
        "df_mtd_export = pd.pivot_table(df_mtd_export, index = 'index', columns = 'department_name_2').droplevel(0, axis = 1).reset_index()\n",
        "df_mtd_export.fillna('', inplace = True)\n",
        "df_mtd_export"
      ]
    },
    {
      "cell_type": "code",
      "execution_count": null,
      "metadata": {
        "colab": {
          "base_uri": "https://localhost:8080/",
          "height": 1000
        },
        "id": "VdrY5gR2KaIC",
        "outputId": "d89cac6c-d43a-4da8-ae96-0d30b551ed48"
      },
      "outputs": [],
      "source": [
        "df_dict = df_dict[df_dict['Order'] != 999][['index', 'Order']]\n",
        "df_dict"
      ]
    },
    {
      "cell_type": "code",
      "execution_count": null,
      "metadata": {
        "colab": {
          "base_uri": "https://localhost:8080/",
          "height": 424
        },
        "id": "yxRrhGykJg_u",
        "outputId": "bed32142-f274-493e-ed42-44e9344b39f2"
      },
      "outputs": [],
      "source": [
        "df_mtd_export = df_mtd_export.merge(df_dict, how = 'left').sort_values(by = 'Order', ascending = True).drop('Order', axis = 1)\n",
        "df_mtd_export"
      ]
    },
    {
      "cell_type": "code",
      "execution_count": null,
      "metadata": {
        "colab": {
          "base_uri": "https://localhost:8080/"
        },
        "id": "opOr1dg7V2cM",
        "outputId": "9cf23628-52a4-446a-a47f-cc09d9f62527"
      },
      "outputs": [],
      "source": [
        "sheet_name = 'MTD'\n",
        "wb_export = gc.open_by_url('https://docs.google.com/spreadsheets/d/1H-jZBIfhIKMDhIYRwSgfxWx1hmdSOY20Pu_gBonb2WI/edit#gid=0')\n",
        "ws_export = wb_export.worksheet(sheet_name)\n",
        "ws_export.clear()\n",
        "set_with_dataframe(ws_export, df_mtd_export.replace(zip_dict), col = 5)\n",
        "ws_export.update('A1', month_value)"
      ]
    },
    {
      "cell_type": "code",
      "execution_count": null,
      "metadata": {
        "id": "qIBHUce8j3fS"
      },
      "outputs": [],
      "source": []
    }
  ],
  "metadata": {
    "colab": {
      "provenance": [],
      "toc_visible": true
    },
    "kernelspec": {
      "display_name": "Python 3",
      "name": "python3"
    },
    "language_info": {
      "codemirror_mode": {
        "name": "ipython",
        "version": 3
      },
      "file_extension": ".py",
      "mimetype": "text/x-python",
      "name": "python",
      "nbconvert_exporter": "python",
      "pygments_lexer": "ipython3",
      "version": "3.10.9"
    }
  },
  "nbformat": 4,
  "nbformat_minor": 0
}
